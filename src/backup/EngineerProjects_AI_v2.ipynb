{
 "cells": [
  {
   "cell_type": "code",
   "execution_count": 60,
   "metadata": {},
   "outputs": [
    {
     "name": "stdout",
     "output_type": "stream",
     "text": [
      " \n",
      " 2024-07-29 07:39:24 \n",
      " P: Es la primera vez que lees esto: Plazo para la ejecuciÃ³n de la ConsultorÃ­a (en dÃ­as calendario)\t\n",
      "\n",
      "El plazo establecido del EDTP es de quinientos diez (510) dÃ­as calendario, a partir del dÃ­a siguiente de la emisiÃ³n de la orden de proceder.\t\t. En 10 palabras o menos dime cual es el plazo para la ejecución? \n",
      " R: El plazo para la ejecuciÃ³n de la ConsultorÃ­a es de quinientos diez (510) dÃ­as calendario, a partir del dÃ­a siguiente de la emisiÃ³n de la orden de proceder.\n"
     ]
    }
   ],
   "source": [
    "from tkinter import filedialog, messagebox\n",
    "from tkinter.scrolledtext import ScrolledText\n",
    "import pyperclip\n",
    "\n",
    "import ollama\n",
    "import datetime\n",
    "\n",
    "def open_file():\n",
    "  file_path = filedialog.askopenfilename()\n",
    "  if file_path:\n",
    "    with open(file_path, 'r', encoding='utf-8') as file:\n",
    "      content = file.read() \n",
    "      # text_box.delete('1.0', tk.END)\n",
    "      # text_box.insert(tk.END, content)\n",
    "  return content\n",
    "\n",
    "def process_data(content):\n",
    "  my_prompt = f'Es la primera vez que lees esto: {content}. En 10 palabras o menos dime cual es el plazo para la ejecución?' # \\n {content}\n",
    "\n",
    "  # my_prompt = f' extrae todos los valores encerrados entre parentesis {content}'\n",
    "\n",
    "\n",
    "  response = ollama.generate(model='qwen2:0.5b', prompt = my_prompt)\n",
    "  actual_responce = response['response']\n",
    "\n",
    "  timestamp = datetime.datetime.now().strftime(\"%Y-%m-%d %H:%M:%S\")\n",
    "  # print_prompt = \n",
    "\n",
    "\n",
    "  # Combine the data with the timestamp\n",
    "  data_log = f\" \\n {timestamp} \\n P: {my_prompt} \\n R: {actual_responce}\"\n",
    "\n",
    "  with open(\"../out/Response_log.csv\", \"a\", encoding=\"utf-8\") as file:\n",
    "      # Write the data to the file\n",
    "      file.write(data_log + \"\\n\")\n",
    "\n",
    "  print(data_log)\n",
    "\n",
    "def clean_log_data():\n",
    "    text_box.delete('1.0', tk.END)\n",
    "\n",
    "def copy_result():\n",
    "    content = text_box.get('1.0', tk.END)\n",
    "    pyperclip.copy(content)\n",
    "    messagebox.showinfo(\"Copy to Clipboard\", \"Result data copied to clipboard!\")\n",
    "\n",
    "\n",
    "\n",
    "    \n",
    "# Text box to show result data\n",
    "text_box = ScrolledText(root, wrap=tk.WORD, width=60, height=20)\n",
    "text_box.pack(pady=10)\n",
    "\n",
    "\n",
    "\n",
    "\n",
    "\n",
    "\n",
    "notas = '../data/notes.md'\n",
    "\n",
    "with open (notas, 'r') as file:\n",
    "  content = file.read()\n",
    "  \n"
   ]
  }
 ],
 "metadata": {
  "kernelspec": {
   "display_name": "Python 3",
   "language": "python",
   "name": "python3"
  },
  "language_info": {
   "codemirror_mode": {
    "name": "ipython",
    "version": 3
   },
   "file_extension": ".py",
   "mimetype": "text/x-python",
   "name": "python",
   "nbconvert_exporter": "python",
   "pygments_lexer": "ipython3",
   "version": "3.12.4"
  }
 },
 "nbformat": 4,
 "nbformat_minor": 2
}
