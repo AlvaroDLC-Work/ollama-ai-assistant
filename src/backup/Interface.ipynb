{
 "cells": [
  {
   "cell_type": "code",
   "execution_count": 5,
   "metadata": {},
   "outputs": [
    {
     "ename": "NameError",
     "evalue": "name 'root' is not defined",
     "output_type": "error",
     "traceback": [
      "\u001b[1;31m---------------------------------------------------------------------------\u001b[0m",
      "\u001b[1;31mNameError\u001b[0m                                 Traceback (most recent call last)",
      "Cell \u001b[1;32mIn[5], line 3\u001b[0m\n\u001b[0;32m      1\u001b[0m \u001b[38;5;28;01mimport\u001b[39;00m \u001b[38;5;21;01mtkinter\u001b[39;00m \u001b[38;5;28;01mas\u001b[39;00m \u001b[38;5;21;01mtk\u001b[39;00m\n\u001b[0;32m      2\u001b[0m \u001b[38;5;28;01mfrom\u001b[39;00m \u001b[38;5;21;01mtkinter\u001b[39;00m\u001b[38;5;21;01m.\u001b[39;00m\u001b[38;5;21;01mscrolledtext\u001b[39;00m \u001b[38;5;28;01mimport\u001b[39;00m ScrolledText\n\u001b[1;32m----> 3\u001b[0m \u001b[38;5;28;01mfrom\u001b[39;00m \u001b[38;5;21;01mfunctions\u001b[39;00m \u001b[38;5;28;01mimport\u001b[39;00m \u001b[38;5;241m*\u001b[39m\n\u001b[0;32m      5\u001b[0m \u001b[38;5;28;01mdef\u001b[39;00m \u001b[38;5;21mclose_app\u001b[39m():\n\u001b[0;32m      6\u001b[0m     root\u001b[38;5;241m.\u001b[39mquit()\n",
      "File \u001b[1;32mz:\\My Drive\\Proyects\\Developer\\python\\llama3-ai\\src\\functions.py:61\u001b[0m\n\u001b[0;32m     55\u001b[0m     messagebox\u001b[38;5;241m.\u001b[39mshowinfo(\u001b[38;5;124m\"\u001b[39m\u001b[38;5;124mCopy to Clipboard\u001b[39m\u001b[38;5;124m\"\u001b[39m, \u001b[38;5;124m\"\u001b[39m\u001b[38;5;124mResult data copied to clipboard!\u001b[39m\u001b[38;5;124m\"\u001b[39m)\n\u001b[0;32m     60\u001b[0m \u001b[38;5;66;03m# Text box to show result data\u001b[39;00m\n\u001b[1;32m---> 61\u001b[0m text_box \u001b[38;5;241m=\u001b[39m ScrolledText(\u001b[43mroot\u001b[49m, wrap\u001b[38;5;241m=\u001b[39mtk\u001b[38;5;241m.\u001b[39mWORD, width\u001b[38;5;241m=\u001b[39m\u001b[38;5;241m60\u001b[39m, height\u001b[38;5;241m=\u001b[39m\u001b[38;5;241m20\u001b[39m)\n\u001b[0;32m     62\u001b[0m text_box\u001b[38;5;241m.\u001b[39mpack(pady\u001b[38;5;241m=\u001b[39m\u001b[38;5;241m10\u001b[39m)\n",
      "\u001b[1;31mNameError\u001b[0m: name 'root' is not defined"
     ]
    }
   ],
   "source": [
    "import tkinter as tk\n",
    "from tkinter.scrolledtext import ScrolledText\n",
    "from functions import *\n",
    "\n",
    "def close_app():\n",
    "    root.quit()\n",
    "\n",
    "root = tk.Tk()\n",
    "root.title(\"Data Processing App\")\n",
    "\n",
    "# Create a frame for the buttons and checkboxes\n",
    "frame = tk.Frame(root)\n",
    "frame.pack(pady=10)\n",
    "\n",
    "# Open File button\n",
    "open_button = tk.Button(frame, text=\"Open File\", command=open_file)\n",
    "open_button.grid(row=0, column=0, padx=5)\n",
    "\n",
    "# Process Data button\n",
    "process_button = tk.Button(frame, text=\"Process Data\", command=process_data)\n",
    "process_button.grid(row=0, column=1, padx=5)\n",
    "\n",
    "# Clean Data button\n",
    "clean_button = tk.Button(frame, text=\"Clean Data\", command=clean_data)\n",
    "clean_button.grid(row=0, column=2, padx=5)\n",
    "\n",
    "# Copy Result button\n",
    "copy_button = tk.Button(frame, text=\"Copy Result\", command=copy_result)\n",
    "copy_button.grid(row=0, column=3, padx=5)\n",
    "\n",
    "# Close App button\n",
    "close_button = tk.Button(frame, text=\"Close App\", command=close_app)\n",
    "close_button.grid(row=0, column=4, padx=5)\n",
    "\n",
    "# Checkbuttons\n",
    "var1 = tk.BooleanVar()\n",
    "var2 = tk.BooleanVar()\n",
    "var3 = tk.BooleanVar()\n",
    "\n",
    "check1 = tk.Checkbutton(frame, text=\"Uppercase\", variable=var1)\n",
    "check1.grid(row=1, column=0, pady=5)\n",
    "\n",
    "check2 = tk.Checkbutton(frame, text=\"Lowercase\", variable=var2)\n",
    "check2.grid(row=1, column=1, pady=5)\n",
    "\n",
    "check3 = tk.Checkbutton(frame, text=\"Title Case\", variable=var3)\n",
    "check3.grid(row=1, column=2, pady=5)\n",
    "\n",
    "# Text box to show result data\n",
    "# text_box = ScrolledText(root, wrap=tk.WORD, width=60, height=20)\n",
    "# text_box.pack(pady=10)\n",
    "\n",
    "root.mainloop()\n",
    "\n"
   ]
  }
 ],
 "metadata": {
  "kernelspec": {
   "display_name": "Python 3",
   "language": "python",
   "name": "python3"
  },
  "language_info": {
   "codemirror_mode": {
    "name": "ipython",
    "version": 3
   },
   "file_extension": ".py",
   "mimetype": "text/x-python",
   "name": "python",
   "nbconvert_exporter": "python",
   "pygments_lexer": "ipython3",
   "version": "3.12.4"
  }
 },
 "nbformat": 4,
 "nbformat_minor": 2
}
