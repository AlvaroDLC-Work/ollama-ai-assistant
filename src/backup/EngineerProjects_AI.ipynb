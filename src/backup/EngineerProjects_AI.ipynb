{
 "cells": [
  {
   "cell_type": "code",
   "execution_count": 59,
   "metadata": {},
   "outputs": [
    {
     "name": "stdout",
     "output_type": "stream",
     "text": [
      " \n",
      " 2024-07-29 07:37:58 \n",
      " P: En 10 palabras o menos. De las notas dime cual es: El plazo para la ejecución? \n",
      " R: El tiempo a que se realiza el proyecto o programa.\n"
     ]
    }
   ],
   "source": [
    "import ollama\n",
    "import datetime\n",
    "\n",
    "notas = '../data/notes.md'\n",
    "\n",
    "with open (notas, 'r') as file:\n",
    "  content = file.read()\n",
    "  \n",
    "my_prompt = f'Es la primera vez que lees esto: {content}. En 10 palabras o menos dime cual es el plazo para la ejecución?' # \\n {content}\n",
    "\n",
    "# my_prompt = f' extrae todos los valores encerrados entre parentesis {content}'\n",
    "\n",
    "\n",
    "response = ollama.generate(model='qwen2:0.5b', prompt = my_prompt)\n",
    "actual_responce = response['response']\n",
    "\n",
    "timestamp = datetime.datetime.now().strftime(\"%Y-%m-%d %H:%M:%S\")\n",
    "\n",
    "# Combine the data with the timestamp\n",
    "data_log = f\" \\n {timestamp} \\n P: {my_prompt} \\n R: {actual_responce}\"\n",
    "\n",
    "with open(\"../out/Response_log.csv\", \"a\", encoding=\"utf-8\") as file:\n",
    "    # Write the data to the file\n",
    "    file.write(data_log + \"\\n\")\n",
    "\n",
    "print(data_log)"
   ]
  }
 ],
 "metadata": {
  "kernelspec": {
   "display_name": "Python 3",
   "language": "python",
   "name": "python3"
  },
  "language_info": {
   "codemirror_mode": {
    "name": "ipython",
    "version": 3
   },
   "file_extension": ".py",
   "mimetype": "text/x-python",
   "name": "python",
   "nbconvert_exporter": "python",
   "pygments_lexer": "ipython3",
   "version": "3.12.4"
  }
 },
 "nbformat": 4,
 "nbformat_minor": 2
}
